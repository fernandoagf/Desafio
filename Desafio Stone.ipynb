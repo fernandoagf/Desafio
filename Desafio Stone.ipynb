{
 "cells": [
  {
   "cell_type": "markdown",
   "metadata": {},
   "source": [
    "# DESAFIO STONE:"
   ]
  },
  {
   "cell_type": "markdown",
   "metadata": {},
   "source": [
    "## PROPOSTA:"
   ]
  },
  {
   "cell_type": "markdown",
   "metadata": {},
   "source": [
    "Access the PostgreSQL database using the following credentials:\n",
    "\n",
    "    host: db-stone.cjepwwjnksng.us-east-1.rds.amazonaws.com\n",
    "    port: 5432\n",
    "    database name: postgres\n",
    "    user: read_only_user\n",
    "    password: banking123\n",
    "\n",
    "\n",
    "The database contains credit card transactional data in 4 tables:\n",
    "\n",
    "    customers\n",
    "    cards\n",
    "    transactions\n",
    "    frauds\n",
    "\n",
    "Develop code to extract 2 kinds of datasets and export them to csv files. The required datasets are the following:\n",
    "\n",
    "    1) The number of transactions and the total value purchased of each credit card grouped by card number and card family.\n",
    "    2) All the customer ids that have \"Diamond\" segment and made at least 40 transactions.\n",
    "   "
   ]
  },
  {
   "cell_type": "markdown",
   "metadata": {},
   "source": [
    "Extras:\n",
    "\n",
    "The following extra tasks are not required, but can give your solution bonus points.\n",
    "\n",
    "    3) The table frauds shows all the transaction ids that were proven to be fraudulent. Analyze the data to find a correlation between the fraudulent transactions and the other features of the dataset. Explain your results.\n",
    "\n",
    "    4) Develop a Dockerfile and/or a docker-compose file to automate your data processing application.\n",
    "_______________________________________________________________________________________________________________________________"
   ]
  },
  {
   "cell_type": "markdown",
   "metadata": {},
   "source": [
    "## SOLUÇÃO:\n",
    "\n",
    "### - Importando as bibliotecas básicas e me conectando ao banco de dados:"
   ]
  },
  {
   "cell_type": "markdown",
   "metadata": {},
   "source": [
    "Conectando à base de dados ao python...\n",
    "Seguindo o tutorial  de https://www.postgresqltutorial.com/postgresql-python/connect/ :"
   ]
  },
  {
   "cell_type": "markdown",
   "metadata": {},
   "source": [
    "1 - É preciso importar os módulos csv e psycopg2 (possui os métodos para fazer a conexão):"
   ]
  },
  {
   "cell_type": "code",
   "execution_count": 1,
   "metadata": {},
   "outputs": [],
   "source": [
    "import csv\n",
    "import psycopg2"
   ]
  },
  {
   "cell_type": "code",
   "execution_count": 2,
   "metadata": {},
   "outputs": [],
   "source": [
    "import math  #será usado futuramente..."
   ]
  },
  {
   "cell_type": "markdown",
   "metadata": {},
   "source": [
    "2 - É preciso criar uma variável da conexão:"
   ]
  },
  {
   "cell_type": "code",
   "execution_count": 3,
   "metadata": {},
   "outputs": [],
   "source": [
    "con = psycopg2.connect(\n",
    "                        host='db-stone.cjepwwjnksng.us-east-1.rds.amazonaws.com',\n",
    "                        port=5432,\n",
    "                        database='postgres',\n",
    "                        user='read_only_user',\n",
    "                        password='banking123')"
   ]
  },
  {
   "cell_type": "markdown",
   "metadata": {},
   "source": [
    "3 - Também devemos criar uma variável para o \"cursor\", que fará a comunicação com o banco de dados."
   ]
  },
  {
   "cell_type": "code",
   "execution_count": 4,
   "metadata": {},
   "outputs": [],
   "source": [
    "cur = con.cursor()"
   ]
  },
  {
   "cell_type": "markdown",
   "metadata": {},
   "source": [
    "### - Conhecendo as tabelas e seus relacionamentos:"
   ]
  },
  {
   "cell_type": "code",
   "execution_count": 5,
   "metadata": {},
   "outputs": [],
   "source": [
    "#tupla com os nomes das tabelas:\n",
    "nomes_tabelas=('customers','cards','transactions','frauds')"
   ]
  },
  {
   "cell_type": "code",
   "execution_count": 6,
   "metadata": {},
   "outputs": [
    {
     "name": "stdout",
     "output_type": "stream",
     "text": [
      "customers:\n",
      "[('id',), ('age',), ('segment',), ('vintage_group',)]\n",
      "('CC25034', 35, 'Diamond', 'VG1')\n",
      "\n",
      "cards:\n",
      "[('card_number',), ('card_family',), ('credit_limit',), ('customer_id',)]\n",
      "('8638-5407-3631-8196', 'Premium', 530000, 'CC67088')\n",
      "\n",
      "transactions:\n",
      "[('id',), ('card_number',), ('transaction_date',), ('value',), ('segment',)]\n",
      "('CTID28830551', '1629-9566-3285-2123', datetime.date(2016, 4, 24), 23649, 'SEG25')\n",
      "\n",
      "frauds:\n",
      "[('transaction_id',), ('fraud_flag',)]\n",
      "('CTID50558449', True)\n",
      "\n"
     ]
    }
   ],
   "source": [
    "#conhecendo as colunas de cada tabela:\n",
    "for t in nomes_tabelas:\n",
    "    query_header = \"SELECT column_name FROM information_schema.columns WHERE table_name = '\"+t+\"'\"\n",
    "    cur.execute(query_header)\n",
    "    header = cur.fetchall()\n",
    "    \n",
    "    query_exemplo = \"SELECT * FROM \"+t+\" LIMIT 1\"\n",
    "    cur.execute(query_exemplo)\n",
    "    exemplo = cur.fetchone()\n",
    "    print(\"%s:\\n%s\\n%s\\n\"% (t,header,exemplo))"
   ]
  },
  {
   "cell_type": "code",
   "execution_count": 7,
   "metadata": {},
   "outputs": [
    {
     "name": "stdout",
     "output_type": "stream",
     "text": [
      "segments de 'customers':\n",
      "[('Platinum',), ('Gold',), ('Diamond',)]\n",
      "\n",
      "segments de 'transactions':\n",
      "[('SEG16',), ('SEG20',), ('SEG19',), ('SEG23',), ('SEG17',), ('SEG15',), ('SEG24',), ('SEG22',), ('SEG18',), ('SEG11',), ('SEG13',), ('SEG12',), ('SEG14',), ('SEG25',), ('SEG21',)]\n"
     ]
    }
   ],
   "source": [
    "#Decidi checar se havia diferença entre as colunas \"segment\", que aparecem nas tabelas \"customers\" e \"transactions\"\n",
    "cur.execute('SELECT DISTINCT segment FROM customers')\n",
    "row = cur.fetchall()\n",
    "print(\"segments de 'customers':\\n%s\\n\"%row)\n",
    "cur.execute('SELECT DISTINCT segment FROM transactions')\n",
    "row = cur.fetchall()\n",
    "print(\"segments de 'transactions':\\n%s\" %row)"
   ]
  },
  {
   "cell_type": "code",
   "execution_count": 8,
   "metadata": {},
   "outputs": [
    {
     "name": "stdout",
     "output_type": "stream",
     "text": [
      "[10000, 109]\n"
     ]
    }
   ],
   "source": [
    "#Checando se as tabelas Frauds e Transactions tem o mesmo número de linhas...\n",
    "cur.execute(\"SELECT COUNT(*) FROM transactions\")\n",
    "query1 = cur.fetchall()\n",
    "cur.execute(\"SELECT COUNT(*) FROM frauds\")\n",
    "query2 = cur.fetchall()\n",
    "lista = [query1[0][0],query2[0][0]]\n",
    "print(lista)"
   ]
  },
  {
   "cell_type": "code",
   "execution_count": 9,
   "metadata": {},
   "outputs": [
    {
     "name": "stdout",
     "output_type": "stream",
     "text": [
      "[(True,)]\n"
     ]
    }
   ],
   "source": [
    "#Confirmando que a tabela frauds só carrega as transações com fraudes...\n",
    "cur.execute(\"SELECT DISTINCT fraud_flag FROM frauds\")\n",
    "tipos_de_fraude = cur.fetchall()\n",
    "print(tipos_de_fraude)"
   ]
  },
  {
   "cell_type": "markdown",
   "metadata": {},
   "source": [
    "### Resolvendo os itens 1 e 2"
   ]
  },
  {
   "cell_type": "code",
   "execution_count": 10,
   "metadata": {},
   "outputs": [],
   "source": [
    "#Resolução do item 1:\n",
    "cur.execute(\"SELECT c.card_number,c.card_family,COUNT(t.id), SUM(t.value) FROM transactions t INNER JOIN cards c ON t.card_number = c.card_number GROUP BY c.card_number,c.card_family ORDER BY SUM(t.value) DESC\")\n",
    "item_1 = cur.fetchall()\n",
    "\n",
    "#Salvando item A em .csv no arquivo \"Item_1.csv\"\n",
    "saida = open(\"Item_1.csv\",'w',newline = '')\n",
    "escrever = csv.writer(saida)\n",
    "escrever.writerow((\"Card Number\",\"Card Family\",\"Transaction Number\",\"Total Value Purchased\"))\n",
    "for i in item_1:\n",
    "    escrever.writerow(i)\n",
    "saida.close()"
   ]
  },
  {
   "cell_type": "code",
   "execution_count": 11,
   "metadata": {
    "scrolled": true
   },
   "outputs": [],
   "source": [
    "#Resolvendo o item 2:\n",
    "cur.execute(\"SELECT cus.id,cus.segment,COUNT(tran.id) FROM transactions tran INNER JOIN cards car ON tran.card_number = car.card_number INNER JOIN customers cus ON car.customer_id = cus.id WHERE cus.segment = 'Diamond' GROUP BY cus.id,cus.segment HAVING COUNT(tran.id)>39 ORDER BY COUNT(tran.id) DESC\")\n",
    "item_2 = cur.fetchall()\n",
    "\n",
    "#Salvando item 2 em .csv no arquivo \"ItemB.csv\"\n",
    "saida = open(\"Item_2.csv\",'w',newline = '')\n",
    "escrever = csv.writer(saida)\n",
    "escrever.writerow((\"Custumer ID\",\"Segment\",\"Total Number of Transactions\"))\n",
    "for i in item_2:\n",
    "    escrever.writerow(i)\n",
    "saida.close()"
   ]
  },
  {
   "cell_type": "markdown",
   "metadata": {},
   "source": [
    "## Extras:\n",
    "\n",
    "### - Item 3:"
   ]
  },
  {
   "cell_type": "markdown",
   "metadata": {},
   "source": [
    "Para resolver o item 3, a minha estratégia foi:\n",
    "- Criar uma tabela que traga todas as transações, a indicação se a transação é fraudulenta e as variáveis que eu quero testar.\n",
    "- Testar a dependência de fraud_flag em cada uma dessas variáveis, por usando o método do Qui-Quadrado.\n",
    "\n",
    "    (Me baseei nos conhecimentos adquiridos em uma disciplina de simulação e nos tutoriais: \"A Gentle Introduction to the Chi-Squared Test for Machine Learning\" e \"How to Choose a Feature Selection Method For Machine Learning\" do site https://machinelearningmastery.com)"
   ]
  },
  {
   "cell_type": "code",
   "execution_count": 12,
   "metadata": {},
   "outputs": [
    {
     "name": "stdout",
     "output_type": "stream",
     "text": [
      "Exemplo de linha da tabela:\n",
      "tran.id, transaction_date, value, tran.segment, fraud_flag, card_family, credit_limit, age, cus.segment, vintage_group\n",
      "('CTID28830551', datetime.date(2016, 4, 24), 23649, 'SEG25', None, 'Platinum', 194000, 23, 'Gold', 'VG3')\n"
     ]
    }
   ],
   "source": [
    "#Pegando a Tabela Desejada:\n",
    "cur.execute(\"SELECT tran.id,transaction_date,value,tran.segment,fraud_flag,card_family,credit_limit,age,cus.segment,vintage_group FROM transactions tran INNER JOIN cards car ON tran.card_number = car.card_number INNER JOIN customers cus ON car.customer_id = cus.id LEFT JOIN frauds f on tran.id=f.transaction_id\")\n",
    "transacoes_expandida = cur.fetchall()\n",
    "print(\"Exemplo de linha da tabela:\\ntran.id, transaction_date, value, tran.segment, fraud_flag, card_family, credit_limit, age, cus.segment, vintage_group\")\n",
    "print(transacoes_expandida[0])"
   ]
  },
  {
   "cell_type": "code",
   "execution_count": 13,
   "metadata": {},
   "outputs": [
    {
     "name": "stdout",
     "output_type": "stream",
     "text": [
      "109 10000\n"
     ]
    }
   ],
   "source": [
    "# Transformando a Tabela Extraída em uma Lista de Listas(que podem ser modificadas mais facilmente):\n",
    "lista = []\n",
    "for i in transacoes_expandida: #Aqui eu decidi transformar os valores de \"fraud_flag\" em 1(é fraude) e 0(não é fraude). \n",
    "    k = list(i)\n",
    "    if k[4]==True:\n",
    "        k[4]=1\n",
    "    else:\n",
    "        k[4]=0\n",
    "    lista.append(k)\n",
    "    \n",
    "conta_fraude = 0 #Fiz essa contagem para verificar se eu extrai corretamente todos as linhas.\n",
    "conta_todo = 0   #O certo seria contar 109 fraudes e 10000 transações\n",
    "for i in lista:\n",
    "    conta_todo += 1\n",
    "    if i[4]==1:\n",
    "        conta_fraude += 1\n",
    "print(conta_fraude,conta_todo)"
   ]
  },
  {
   "cell_type": "markdown",
   "metadata": {},
   "source": [
    "#### Testes Qui-Quadradro:"
   ]
  },
  {
   "cell_type": "markdown",
   "metadata": {},
   "source": [
    "Nesta etapa, farei testes qui-quadrado da coluna \"fraud_flag\" com as demais colunas, uma de cada vez.\n",
    "Esse teste estatístico permite checar a relação de dependência entre duas variáveis categóricas.\n",
    "\n",
    "No nosso caso, as variáveis categóricas são:\n",
    "\n",
    "    fraud_flag, tran.segment, card_family, cus.segment, vintage_group\n",
    "\n",
    "Também temos três variáveis numéricas, que são:\n",
    "\n",
    "    value, credit_limit, age\n",
    "\n",
    "Irei começar tratando as variáveis numéricas, que podem ser transformadas em categorias pela regra de Sturges..."
   ]
  },
  {
   "cell_type": "code",
   "execution_count": 14,
   "metadata": {},
   "outputs": [
    {
     "name": "stdout",
     "output_type": "stream",
     "text": [
      "Tamanho da amostra: 109\n",
      "Número de Categorias K: 8\n"
     ]
    }
   ],
   "source": [
    "# Usando a regra de Sturges para definir o número de categorias (k)...\n",
    "# k = 1+ 3.3*log(n); onde n é o tamanho da amostra(número de transações fraudulentas, calculado anteriormente)\n",
    "tamanho_amostra = conta_fraude\n",
    "k = math.ceil(1+3.3*math.log(tamanho_amostra,10))\n",
    "print(\"Tamanho da amostra: %d\\nNúmero de Categorias K: %d\"%(tamanho_amostra,k))"
   ]
  },
  {
   "cell_type": "code",
   "execution_count": 15,
   "metadata": {},
   "outputs": [
    {
     "name": "stdout",
     "output_type": "stream",
     "text": [
      "Amplitude(a): 49892\n",
      "Tamanho do intervalo de classificação(h): 6236.50\n",
      "\n",
      "Limites superiores dos intervalos de valores:\n",
      "[6339, 12576, 18812, 25049, 31285, 37522, 43758, 49995]\n"
     ]
    }
   ],
   "source": [
    "#Vamos começar avaliando a relação entre \"frauds\" e \"values\"...\n",
    "\n",
    "#É preciso saber a amplitude do dados \"values\", ou seja: qual é a diferença entre o maior e o menor valor?\n",
    "def lista_coluna(tabela,indice_col):\n",
    "    l = []\n",
    "    for i in tabela:\n",
    "        l.append(i[indice_col])\n",
    "    return l\n",
    "\n",
    "def amplitude(vetor):\n",
    "    a = (max(vetor) - min(vetor))\n",
    "    print(\"Amplitude(a): %d\"% a)\n",
    "    return int(a)\n",
    "\n",
    "coluna_values = lista_coluna(lista,2)\n",
    "\n",
    "values_amplitude = amplitude(coluna_values)\n",
    "\n",
    "# para a classificação, os valores serão classificados em \"k\" intervalos diferentes de tamanho \"h\":\n",
    "\n",
    "h = values_amplitude/k\n",
    "print(\"Tamanho do intervalo de classificação(h): %.2f\"%h)\n",
    "\n",
    "# Para ilustrar os intervalos criei a lista abaixo, mostra os limites superiores de cada um:\n",
    "ini_class_values = []\n",
    "for i in range(1,(k+1)):\n",
    "    ini_class_values.append(int(i*h + min(coluna_values)))\n",
    "print(\"\\nLimites superiores dos intervalos de valores:\\n%s\"%ini_class_values) "
   ]
  },
  {
   "cell_type": "code",
   "execution_count": 16,
   "metadata": {},
   "outputs": [
    {
     "name": "stdout",
     "output_type": "stream",
     "text": [
      "\n",
      "Tabela Contingência:\n",
      " [[1272, 1255, 1269, 1229, 1251, 1231, 1198, 1186], [7, 15, 14, 9, 14, 28, 9, 13]]\n"
     ]
    }
   ],
   "source": [
    "#O próximo passo é criar a \"Tabela Contingência\" que irá contar as ocorências em cada classificação:\n",
    "tabela_fraudesValues = [[0,0,0,0,0,0,0,0],[0,0,0,0,0,0,0,0]]\n",
    "for i in lista:\n",
    "    #descubro a posição da contagem de value:\n",
    "    pos = min(int((i[2]-min(coluna_values))/h),(k-1))\n",
    "    tabela_fraudesValues[i[4]][pos] += 1\n",
    "print(\"\\nTabela Contingência:\\n\",tabela_fraudesValues)"
   ]
  },
  {
   "cell_type": "code",
   "execution_count": 17,
   "metadata": {},
   "outputs": [],
   "source": [
    "#Importo as bibliotecas em que o método Qui-Quadrado, já foi desenvolvido\n",
    "from scipy.stats import chi2_contingency\n",
    "from scipy.stats import chi2"
   ]
  },
  {
   "cell_type": "code",
   "execution_count": 18,
   "metadata": {},
   "outputs": [],
   "source": [
    "#Declaro a função a seguir, que retorna a estatística calculada, o \"p-valor\",\n",
    "# os graus de liberdade, a tabela de frequências esperada e já avalia se as variáveis são dependentes ou não:\n",
    "def avalia_dependencia(tabela_contingencia):\n",
    "    estat, p, gdl, esperada = chi2_contingency(tabela_contingencia)\n",
    "    print('Graus de Liberdade = %d' % gdl)\n",
    "    print(\"Tabelas Esperadas:\\n\",esperada)\n",
    "    # interpretando o teste estatistico:\n",
    "    prob = 0.95\n",
    "    critica = chi2.ppf(prob, gdl)\n",
    "    print('\\nProbabilidade = %.3f, E. crítica=%.3f, Estatísca = %.3f' % (prob, critica, estat))\n",
    "    if abs(estat) >= critica:\n",
    "        print('Variáveis Dependentes (rejeita H0)')\n",
    "    else:\n",
    "        print('Variáveis Independentes (falha em rejeitar H0)')\n",
    "    # interpretando o p-valor\n",
    "    alpha = 1.0 - prob\n",
    "    print('\\nNível de Significância = %.3f, p=%.3f' % (alpha, p))\n",
    "    if p <= alpha:\n",
    "        print('Variáveis Dependentes (rejeita H0)')\n",
    "    else:\n",
    "        print('Variáveis Independentes (falha em rejeitar H0)')"
   ]
  },
  {
   "cell_type": "code",
   "execution_count": 19,
   "metadata": {},
   "outputs": [
    {
     "name": "stdout",
     "output_type": "stream",
     "text": [
      "Graus de Liberdade = 7\n",
      "Tabelas Esperadas:\n",
      " [[1265.0589 1256.157  1269.0153 1224.5058 1251.2115 1245.2769 1193.8437\n",
      "  1185.9309]\n",
      " [  13.9411   13.843    13.9847   13.4942   13.7885   13.7231   13.1563\n",
      "    13.0691]]\n",
      "\n",
      "Probabilidade = 0.950, E. crítica=14.067, Estatísca = 21.453\n",
      "Variáveis Dependentes (rejeita H0)\n",
      "\n",
      "Nível de Significância = 0.050, p=0.003\n",
      "Variáveis Dependentes (rejeita H0)\n"
     ]
    }
   ],
   "source": [
    "avalia_dependencia(tabela_fraudesValues)"
   ]
  },
  {
   "cell_type": "markdown",
   "metadata": {},
   "source": [
    "# ------------------------------------------------------------------------------------------\n",
    "De forma análoga, as tabelas contingência de \"frauds\" com \"credit limits\" e \"age\" serão criadas e postas à prova:"
   ]
  },
  {
   "cell_type": "markdown",
   "metadata": {},
   "source": [
    "### Analise de Fraudes x Limite de Crédito:"
   ]
  },
  {
   "cell_type": "code",
   "execution_count": 20,
   "metadata": {},
   "outputs": [
    {
     "name": "stdout",
     "output_type": "stream",
     "text": [
      "Amplitude(a): 897000\n",
      "Tamanho do intervalo de classificação(h): 112125.00\n",
      "\n",
      "Limites superiores dos intervalos de valores:\n",
      "[114125, 226250, 338375, 450500, 562625, 674750, 786875, 899000]\n",
      "\n",
      "Tabela Contingência:\n",
      " [[4423, 1969, 644, 564, 393, 676, 634, 588], [44, 26, 10, 9, 5, 4, 6, 5]]\n"
     ]
    }
   ],
   "source": [
    "coluna_credLim = lista_coluna(lista,6)  #coluna de índice 6 na lista \n",
    "credLim_amplitude = amplitude(coluna_credLim)\n",
    "h = credLim_amplitude/k\n",
    "print(\"Tamanho do intervalo de classificação(h): %.2f\"%h)\n",
    "\n",
    "ini_class_CredLim = []\n",
    "for i in range(1,(k+1)):\n",
    "    ini_class_CredLim.append(int(i*h + min(coluna_credLim)))\n",
    "print(\"\\nLimites superiores dos intervalos de valores:\\n%s\"%ini_class_CredLim)\n",
    "\n",
    "tabela_fraudesCredLim = [[0,0,0,0,0,0,0,0],[0,0,0,0,0,0,0,0]]\n",
    "for i in lista:\n",
    "    pos = min(int((i[6]-min(coluna_credLim))/h),(k-1))\n",
    "    tabela_fraudesCredLim[i[4]][pos] += 1\n",
    "print(\"\\nTabela Contingência:\\n\",tabela_fraudesCredLim)"
   ]
  },
  {
   "cell_type": "code",
   "execution_count": 21,
   "metadata": {},
   "outputs": [
    {
     "name": "stdout",
     "output_type": "stream",
     "text": [
      "Graus de Liberdade = 7\n",
      "Tabelas Esperadas:\n",
      " [[4.4183097e+03 1.9732545e+03 6.4687140e+02 5.6675430e+02 3.9366180e+02\n",
      "  6.7258800e+02 6.3302400e+02 5.8653630e+02]\n",
      " [4.8690300e+01 2.1745500e+01 7.1286000e+00 6.2457000e+00 4.3382000e+00\n",
      "  7.4120000e+00 6.9760000e+00 6.4637000e+00]]\n",
      "\n",
      "Probabilidade = 0.950, E. crítica=14.067, Estatísca = 5.859\n",
      "Variáveis Independentes (falha em rejeitar H0)\n",
      "\n",
      "Nível de Significância = 0.050, p=0.556\n",
      "Variáveis Independentes (falha em rejeitar H0)\n"
     ]
    }
   ],
   "source": [
    "avalia_dependencia(tabela_fraudesCredLim)"
   ]
  },
  {
   "cell_type": "markdown",
   "metadata": {},
   "source": [
    "### Análise de Fraudes x Idades:"
   ]
  },
  {
   "cell_type": "code",
   "execution_count": 22,
   "metadata": {},
   "outputs": [
    {
     "name": "stdout",
     "output_type": "stream",
     "text": [
      "Amplitude(a): 30\n",
      "Tamanho do intervalo de classificação(h): 3.75\n",
      "\n",
      "Limites superiores dos intervalos de valores:\n",
      "[23, 27, 31, 35, 38, 42, 46, 50]\n",
      "\n",
      "Tabela Contingência:\n",
      " [[991, 1357, 1276, 1013, 1242, 1400, 1129, 1483], [12, 13, 17, 11, 13, 23, 6, 14]]\n"
     ]
    }
   ],
   "source": [
    "coluna_idades = lista_coluna(lista,7)  #coluna de índice 7 na lista \n",
    "idades_amplitude = amplitude(coluna_idades)\n",
    "h = idades_amplitude/k\n",
    "print(\"Tamanho do intervalo de classificação(h): %.2f\"%h)\n",
    "\n",
    "ini_class_idades = []\n",
    "for i in range(1,(k+1)):\n",
    "    ini_class_idades.append(int(i*h + min(coluna_idades)))\n",
    "print(\"\\nLimites superiores dos intervalos de valores:\\n%s\"%ini_class_idades)\n",
    "\n",
    "tabela_fraudesIdades = [[0,0,0,0,0,0,0,0],[0,0,0,0,0,0,0,0]]\n",
    "for i in lista:\n",
    "    pos = min(int((i[7]-min(coluna_idades))/h),(k-1))\n",
    "    tabela_fraudesIdades[i[4]][pos] += 1\n",
    "print(\"\\nTabela Contingência:\\n\",tabela_fraudesIdades)"
   ]
  },
  {
   "cell_type": "code",
   "execution_count": 23,
   "metadata": {},
   "outputs": [
    {
     "name": "stdout",
     "output_type": "stream",
     "text": [
      "Graus de Liberdade = 7\n",
      "Tabelas Esperadas:\n",
      " [[ 992.0673 1355.067  1278.9063 1012.8384 1241.3205 1407.4893 1122.6285\n",
      "  1480.6827]\n",
      " [  10.9327   14.933    14.0937   11.1616   13.6795   15.5107   12.3715\n",
      "    16.3173]]\n",
      "\n",
      "Probabilidade = 0.950, E. crítica=14.067, Estatísca = 8.307\n",
      "Variáveis Independentes (falha em rejeitar H0)\n",
      "\n",
      "Nível de Significância = 0.050, p=0.306\n",
      "Variáveis Independentes (falha em rejeitar H0)\n"
     ]
    }
   ],
   "source": [
    "avalia_dependencia(tabela_fraudesIdades)"
   ]
  },
  {
   "cell_type": "markdown",
   "metadata": {},
   "source": [
    "### Agora os testes da função Qui-quadrada serão realizados com variáveis categóricas:"
   ]
  },
  {
   "cell_type": "markdown",
   "metadata": {},
   "source": [
    "Primeiro será necessário encontrar para cada coluna de variável categórica suas classificações distintas.\n",
    "Essas classificações serão "
   ]
  },
  {
   "cell_type": "markdown",
   "metadata": {},
   "source": [
    "tran.segment(3),card_family(5),cus.segment(8),vintage_group(9)"
   ]
  },
  {
   "cell_type": "markdown",
   "metadata": {},
   "source": [
    "### Análise de Fraudes x Segmento da Transação:"
   ]
  },
  {
   "cell_type": "code",
   "execution_count": 24,
   "metadata": {},
   "outputs": [
    {
     "name": "stdout",
     "output_type": "stream",
     "text": [
      "tran.segment:\n",
      " [['SEG16'], ['SEG20'], ['SEG19'], ['SEG23'], ['SEG17'], ['SEG15'], ['SEG24'], ['SEG22'], ['SEG18'], ['SEG11'], ['SEG13'], ['SEG12'], ['SEG14'], ['SEG25'], ['SEG21']]\n"
     ]
    }
   ],
   "source": [
    "cur.execute(\"SELECT distinct(tran.segment) FROM transactions tran\")# Puxo categorias distintas da base de dados.\n",
    "tranSegmentsDistintas = cur.fetchall()\n",
    "\n",
    "aux = []                         #Gravo as categorias em uma lista\n",
    "for i in tranSegmentsDistintas: \n",
    "    aux.append(list(i))\n",
    "tranSegmentsDistintas = aux\n",
    "\n",
    "print(\"tran.segment:\\n\",tranSegmentsDistintas)\n",
    "k = len(tranSegmentsDistintas)   #k é o número de categorias"
   ]
  },
  {
   "cell_type": "code",
   "execution_count": 25,
   "metadata": {},
   "outputs": [
    {
     "name": "stdout",
     "output_type": "stream",
     "text": [
      "\n",
      "Tabela Contingência:\n",
      " [[659, 662, 655, 696, 643, 677, 661, 623, 678, 644, 675, 689, 617, 689, 623], [8, 6, 3, 12, 8, 6, 8, 9, 4, 15, 4, 6, 6, 4, 10]]\n"
     ]
    }
   ],
   "source": [
    "tabela_fraudesTranSegments = [[0,0,0,0,0,0,0,0,0,0,0,0,0,0,0],[0,0,0,0,0,0,0,0,0,0,0,0,0,0,0]] #Construo a tabela contingência\n",
    "for i in lista:\n",
    "    for j in range(0,k):                   #Adiciono +1 na posição equivalente de cada ocorrencia dentro da tabela contingêcia\n",
    "        if i[3] == tranSegmentsDistintas[j][0]:\n",
    "            tabela_fraudesTranSegments[i[4]][j] += 1                  \n",
    "print(\"\\nTabela Contingência:\\n\",tabela_fraudesTranSegments)"
   ]
  },
  {
   "cell_type": "code",
   "execution_count": 26,
   "metadata": {},
   "outputs": [
    {
     "name": "stdout",
     "output_type": "stream",
     "text": [
      "Graus de Liberdade = 14\n",
      "Tabelas Esperadas:\n",
      " [[659.7297 660.7188 650.8278 700.2828 643.9041 675.5553 661.7079 625.1112\n",
      "  674.5662 651.8169 671.5989 687.4245 616.2093 685.4463 626.1003]\n",
      " [  7.2703   7.2812   7.1722   7.7172   7.0959   7.4447   7.2921   6.8888\n",
      "    7.4338   7.1831   7.4011   7.5755   6.7907   7.5537   6.8997]]\n",
      "\n",
      "Probabilidade = 0.950, E. crítica=23.685, Estatísca = 21.590\n",
      "Variáveis Independentes (falha em rejeitar H0)\n",
      "\n",
      "Nível de Significância = 0.050, p=0.087\n",
      "Variáveis Independentes (falha em rejeitar H0)\n"
     ]
    }
   ],
   "source": [
    "avalia_dependencia(tabela_fraudesTranSegments)"
   ]
  },
  {
   "cell_type": "markdown",
   "metadata": {},
   "source": [
    "-------------------------------------------------------------------------------------------------\n",
    "A partir de agora o mesmo processo vai se repetir para cada uma das outras variáveis categóricas."
   ]
  },
  {
   "cell_type": "markdown",
   "metadata": {},
   "source": [
    "### Análise de Fraudes x Segmento do Cliente:"
   ]
  },
  {
   "cell_type": "code",
   "execution_count": 27,
   "metadata": {},
   "outputs": [
    {
     "name": "stdout",
     "output_type": "stream",
     "text": [
      "cus.segment:\n",
      " [['Platinum'], ['Gold'], ['Diamond']]\n"
     ]
    }
   ],
   "source": [
    "cur.execute(\"SELECT distinct(cus.segment) FROM customers cus\") \n",
    "cusSegmentsDistintas = cur.fetchall()\n",
    "\n",
    "aux = []\n",
    "for i in cusSegmentsDistintas: \n",
    "    aux.append(list(i))\n",
    "cusSegmentsDistintas = aux\n",
    "\n",
    "print(\"cus.segment:\\n\",cusSegmentsDistintas)\n",
    "k = len(cusSegmentsDistintas)"
   ]
  },
  {
   "cell_type": "code",
   "execution_count": 28,
   "metadata": {},
   "outputs": [
    {
     "name": "stdout",
     "output_type": "stream",
     "text": [
      "\n",
      "Tabela Contingência:\n",
      " [[2260, 3225, 4406], [28, 27, 54]]\n"
     ]
    }
   ],
   "source": [
    "tabela_fraudesCusSegments = [[0,0,0],[0,0,0]]\n",
    "for i in lista:\n",
    "    for j in range(0,k):\n",
    "        if i[8] == cusSegmentsDistintas[j][0]:\n",
    "            tabela_fraudesCusSegments[i[4]][j] += 1\n",
    "print(\"\\nTabela Contingência:\\n\",tabela_fraudesCusSegments)"
   ]
  },
  {
   "cell_type": "code",
   "execution_count": 29,
   "metadata": {},
   "outputs": [
    {
     "name": "stdout",
     "output_type": "stream",
     "text": [
      "Graus de Liberdade = 2\n",
      "Tabelas Esperadas:\n",
      " [[2263.0608 3216.5532 4411.386 ]\n",
      " [  24.9392   35.4468   48.614 ]]\n",
      "\n",
      "Probabilidade = 0.950, E. crítica=5.991, Estatísca = 3.018\n",
      "Variáveis Independentes (falha em rejeitar H0)\n",
      "\n",
      "Nível de Significância = 0.050, p=0.221\n",
      "Variáveis Independentes (falha em rejeitar H0)\n"
     ]
    }
   ],
   "source": [
    "avalia_dependencia(tabela_fraudesCusSegments)"
   ]
  },
  {
   "cell_type": "markdown",
   "metadata": {},
   "source": [
    "### Análise de Fraudes x Família do Cartão:"
   ]
  },
  {
   "cell_type": "code",
   "execution_count": 30,
   "metadata": {},
   "outputs": [
    {
     "name": "stdout",
     "output_type": "stream",
     "text": [
      "tran.segment:\n",
      " [['Premium'], ['Platinum'], ['Gold']]\n"
     ]
    }
   ],
   "source": [
    "cur.execute(\"SELECT distinct(card_family) FROM cards\")\n",
    "card_FamilyDistintas = cur.fetchall()\n",
    "\n",
    "aux = []\n",
    "for i in card_FamilyDistintas: \n",
    "    aux.append(list(i))\n",
    "card_FamilyDistintas = aux\n",
    "\n",
    "print(\"tran.segment:\\n\",card_FamilyDistintas)\n",
    "k = len(card_FamilyDistintas)"
   ]
  },
  {
   "cell_type": "code",
   "execution_count": 31,
   "metadata": {},
   "outputs": [
    {
     "name": "stdout",
     "output_type": "stream",
     "text": [
      "\n",
      "Tabela Contingência:\n",
      " [[4054, 2240, 3597], [45, 25, 39]]\n"
     ]
    }
   ],
   "source": [
    "tabela_fraudesCardFamily = [[0,0,0],[0,0,0]]\n",
    "for i in lista:\n",
    "    for j in range(0,k):\n",
    "        if i[5] == card_FamilyDistintas[j][0]:\n",
    "            tabela_fraudesCardFamily[i[4]][j] += 1\n",
    "print(\"\\nTabela Contingência:\\n\",tabela_fraudesCardFamily)"
   ]
  },
  {
   "cell_type": "code",
   "execution_count": 32,
   "metadata": {},
   "outputs": [
    {
     "name": "stdout",
     "output_type": "stream",
     "text": [
      "Graus de Liberdade = 2\n",
      "Tabelas Esperadas:\n",
      " [[4054.3209 2240.3115 3596.3676]\n",
      " [  44.6791   24.6885   39.6324]]\n",
      "\n",
      "Probabilidade = 0.950, E. crítica=5.991, Estatísca = 0.017\n",
      "Variáveis Independentes (falha em rejeitar H0)\n",
      "\n",
      "Nível de Significância = 0.050, p=0.992\n",
      "Variáveis Independentes (falha em rejeitar H0)\n"
     ]
    }
   ],
   "source": [
    "avalia_dependencia(tabela_fraudesCardFamily)"
   ]
  },
  {
   "cell_type": "markdown",
   "metadata": {},
   "source": [
    "### Análise de Fraudes x Vintage Group:"
   ]
  },
  {
   "cell_type": "code",
   "execution_count": 33,
   "metadata": {},
   "outputs": [
    {
     "name": "stdout",
     "output_type": "stream",
     "text": [
      "tran.segment:\n",
      " [['VG3'], ['VG2'], ['VG1']]\n"
     ]
    }
   ],
   "source": [
    "cur.execute(\"SELECT distinct(vintage_group) FROM customers\")\n",
    "vintage_groupDistintas = cur.fetchall()\n",
    "\n",
    "aux = []\n",
    "for i in vintage_groupDistintas: \n",
    "    aux.append(list(i))\n",
    "vintage_groupDistintas = aux\n",
    "\n",
    "print(\"tran.segment:\\n\",vintage_groupDistintas)\n",
    "k = len(vintage_groupDistintas)"
   ]
  },
  {
   "cell_type": "code",
   "execution_count": 34,
   "metadata": {},
   "outputs": [
    {
     "name": "stdout",
     "output_type": "stream",
     "text": [
      "\n",
      "Tabela Contingência:\n",
      " [[3225, 2260, 4406], [27, 28, 54]]\n"
     ]
    }
   ],
   "source": [
    "tabela_fraudesVintageGroup = [[0,0,0],[0,0,0]]\n",
    "for i in lista:\n",
    "    for j in range(0,k):\n",
    "        if i[9] == vintage_groupDistintas[j][0]:\n",
    "            tabela_fraudesVintageGroup[i[4]][j] += 1\n",
    "print(\"\\nTabela Contingência:\\n\",tabela_fraudesVintageGroup)"
   ]
  },
  {
   "cell_type": "code",
   "execution_count": 35,
   "metadata": {},
   "outputs": [
    {
     "name": "stdout",
     "output_type": "stream",
     "text": [
      "Graus de Liberdade = 2\n",
      "Tabelas Esperadas:\n",
      " [[3216.5532 2263.0608 4411.386 ]\n",
      " [  35.4468   24.9392   48.614 ]]\n",
      "\n",
      "Probabilidade = 0.950, E. crítica=5.991, Estatísca = 3.018\n",
      "Variáveis Independentes (falha em rejeitar H0)\n",
      "\n",
      "Nível de Significância = 0.050, p=0.221\n",
      "Variáveis Independentes (falha em rejeitar H0)\n"
     ]
    }
   ],
   "source": [
    "avalia_dependencia(tabela_fraudesVintageGroup)"
   ]
  },
  {
   "cell_type": "markdown",
   "metadata": {},
   "source": [
    "### Conclusão:\n",
    "#### - Pelo método Qui-Quadrado, apenas a coluna \"value\" mostrou uma relação de dependencia com a coluna \"frauds\""
   ]
  },
  {
   "cell_type": "code",
   "execution_count": 36,
   "metadata": {},
   "outputs": [],
   "source": [
    "#Encerra todas as conexões com o banco\n",
    "cur.close()\n",
    "con.close()"
   ]
  }
 ],
 "metadata": {
  "kernelspec": {
   "display_name": "Python 3",
   "language": "python",
   "name": "python3"
  },
  "language_info": {
   "codemirror_mode": {
    "name": "ipython",
    "version": 3
   },
   "file_extension": ".py",
   "mimetype": "text/x-python",
   "name": "python",
   "nbconvert_exporter": "python",
   "pygments_lexer": "ipython3",
   "version": "3.6.5"
  }
 },
 "nbformat": 4,
 "nbformat_minor": 2
}
